{
 "cells": [
  {
   "cell_type": "code",
   "execution_count": 10,
   "metadata": {},
   "outputs": [],
   "source": [
    "import numpy as np\n",
    "from numpy import linalg as LA\n",
    "import matplotlib.pyplot as plt\n"
   ]
  },
  {
   "cell_type": "markdown",
   "metadata": {},
   "source": [
    "These are helper functions , made to generate Symmetric Positive Matrices and Row vectors for testing purposes."
   ]
  },
  {
   "cell_type": "code",
   "execution_count": 11,
   "metadata": {},
   "outputs": [],
   "source": [
    "\n",
    "def Generate_Symm_Pos_Matrix (n):\n",
    "    A = np.random.randint(0, 10, size=(n,n)) \n",
    "    A = A.T @ A # This guarantees that the matrix is symmetric and as a consequence it is also Positive Definite\n",
    "    A = np.matrix(A) # Typecasts into an matrix as the default output is a numpy array\n",
    "    return A\n",
    "\n",
    "def Generate_Answer_Vector(n):\n",
    "    b = np.random.randint(0,10 ,size= n) # Generates a array of size n with entries between 0 and 10\n",
    "    return b"
   ]
  },
  {
   "cell_type": "markdown",
   "metadata": {},
   "source": [
    "The following chunck initialises the Matrix $A$ and Column Vector $b$ given a size $n$.\n",
    "We set a tolerance to avoid any floating point arithemtic mistakes , however any small number is suitable for the convergence of the algorithm.\n",
    "We also generate the Vector $x$ using matrix multiplication so we can check whether our algorithm is working as intended.\n",
    "\n",
    "The program will ask for an input of the size parameter $n$"
   ]
  },
  {
   "cell_type": "code",
   "execution_count": 12,
   "metadata": {},
   "outputs": [
    {
     "name": "stdout",
     "output_type": "stream",
     "text": [
      "Our matrix A is : \n",
      " [[ 87  34  64 116]\n",
      " [ 34  20   8  36]\n",
      " [ 64   8 133 101]\n",
      " [116  36 101 171]]\n",
      "Our Vector b is : \n",
      "  [[4]\n",
      " [6]\n",
      " [7]\n",
      " [6]]\n",
      "Our solution vector x should be :\n",
      " [[-12.24588477]\n",
      " [ 11.24125514]\n",
      " [  1.32613169]\n",
      " [  5.19238683]]\n"
     ]
    }
   ],
   "source": [
    "n = int(input(\"What size do you want the matrix to be?\"))\n",
    "A = Generate_Symm_Pos_Matrix(n)\n",
    "print(\"Our matrix A is : \\n\"\n",
    "       , A)\n",
    "b = Generate_Answer_Vector(n)\n",
    "b = b.reshape(-1,1)\n",
    "print(\"Our Vector b is : \\n \", \n",
    "    b.reshape(-1,1)) # Converting to a column vector\n",
    "print(\"Our solution vector x should be :\\n\",A.getI() @ b.reshape(-1,1)) #Generating answer for the vector x\n",
    "\n",
    "tol = np.finfo(b.astype(float).dtype).eps   # Choosing the smallest possible tolerance based on the file type\n"
   ]
  },
  {
   "cell_type": "markdown",
   "metadata": {},
   "source": [
    "Implementing the Algorithm \n",
    "\n",
    "We have implemeted the algorithm following the pseudocode on the Wikipedia page.\n",
    "\n",
    "When using excat arithmetic the algorithm should converge in n interations but due to the smallest possible choice of tolerance the algorithm converges in apporximately 2n iterations. This can be avoided by using a higher precision number system to do the computation or choosing a larger tolerance . This can affect the accuracy of the solution but it is still perfectly valid as an approximation\n",
    "\n",
    "When checking to see if we can obtain vector b using our solution vector , we sometimes see very small numbers in scientific notaion (e.g-3.93995947e-12) in the vector instead of 0. This is due to the high precision methods used. We can change this by rounding down to 0 but this doesnt change the validity of our answer."
   ]
  },
  {
   "cell_type": "code",
   "execution_count": 13,
   "metadata": {},
   "outputs": [
    {
     "name": "stdout",
     "output_type": "stream",
     "text": [
      "Our solution Vector x is:\n",
      " [[-12.24588477]\n",
      " [ 11.24125514]\n",
      " [  1.32613169]\n",
      " [  5.19238683]] \n",
      " this is consistent with the solution we calculated above\n",
      "Multiplying our Matrix A and solution vector x give us :\n",
      "  [[4.]\n",
      " [6.]\n",
      " [7.]\n",
      " [6.]] \n",
      "which is consistent with our vector b \n",
      "The algorithm has converged in  8 iterations\n"
     ]
    }
   ],
   "source": [
    "\n",
    "x = np.zeros((n,1)) # Choosing our intial guess as the zero vector with appropriate dimension\n",
    "#tol = 1e-12  # We can use this to get a faster but less accurate approximation\n",
    "residual = b - (A @ x) \n",
    "search_direction = residual\n",
    "\n",
    "old_resid_norm = LA.norm(residual)\n",
    "iteration = 0\n",
    "error_list = []\n",
    "#We calculated our residual and set our search direction . We have chosen to use the norm of the residual to mark our convergence criteria .\n",
    "#So the algorithm iterates until the norm distance of the residual is less then the chosen tolerance\n",
    "while old_resid_norm > tol:\n",
    "    \n",
    "    iteration += 1\n",
    "    \n",
    "    error_list.append(LA.norm(b-(A@x))) #Adding the errors to a list to plot later\n",
    "    \n",
    "    A_search_direction = A @ search_direction\n",
    "    step_size = old_resid_norm**2/(search_direction.T*A_search_direction) #Calculating step_size a_k , We use the square of the norm as it is equivalent to A^T * T\n",
    "    x = (step_size.item() * search_direction + x) # Updating our solution vector , the .item() method converts the step_size vector to a scalar quantity\n",
    "\n",
    "    residual = (residual - step_size.item() * A_search_direction) # Updating our residual vector\n",
    "    new_resid_norm = LA.norm(residual)\n",
    "    search_direction = (residual + ((new_resid_norm/old_resid_norm)**2)*search_direction)\n",
    "    old_resid_norm = new_resid_norm #Updating our residual norm for the next iteration\n",
    "\n",
    "\n",
    "print(\"Our solution Vector x is:\\n\" , x,\"\\n this is consistent with the solution we calculated above\") # This is our solution vector after convergence\n",
    "\n",
    "print(\"Multiplying our Matrix A and solution vector x give us :\\n \",A @ x, \"\\nwhich is consistent with our vector b \") # we can verify our Answer \n",
    "\n",
    "print(\"The algorithm has converged in \",iteration,\"iterations\")\n",
    "\n",
    "\n",
    "\n"
   ]
  },
  {
   "cell_type": "markdown",
   "metadata": {},
   "source": [
    "As our algorithm iterates until convergence , we append the norm of the residuals to an empty list . We then plot the log of the residuals against the number of iterations as a line graph. We use log scale to amplify the error further . When we plot the graph we can observe the error gradually increases steadily until the $n$ th iteration when there is a drastic drop in error , suggesting the algorith is near convergence. This gives us evididence that this is a valid approximation. The algorithm continues to iterate on further than n but this is due to our choice of the tolerance and high precision methods computers use. At the $n$ th iteration we have a perfectly valid approximation for our vector $x$ . "
   ]
  },
  {
   "cell_type": "code",
   "execution_count": 14,
   "metadata": {},
   "outputs": [
    {
     "data": {
      "text/plain": [
       "Text(0.5, 1.0, 'Norm of  Error over Number of Iterations ')"
      ]
     },
     "execution_count": 14,
     "metadata": {},
     "output_type": "execute_result"
    },
    {
     "data": {
      "image/png": "[encoded data removed]",
      "text/plain": [
       "<Figure size 640x480 with 1 Axes>"
      ]
     },
     "metadata": {},
     "output_type": "display_data"
    }
   ],
   "source": [
    "\n",
    "plt.semilogy(error_list , marker =\"x\")\n",
    "plt.scatter((n),error_list[n],color=\"red\")\n",
    "plt.xlabel(\"Iteration Number\")\n",
    "plt.ylabel(\"Log Norm of Error\")\n",
    "plt.title(\"Norm of  Error over Number of Iterations \")"
   ]
  }
 ],
 "metadata": {
  "kernelspec": {
   "display_name": "Python 3",
   "language": "python",
   "name": "python3"
  },
  "language_info": {
   "codemirror_mode": {
    "name": "ipython",
    "version": 3
   },
   "file_extension": ".py",
   "mimetype": "text/x-python",
   "name": "python",
   "nbconvert_exporter": "python",
   "pygments_lexer": "ipython3",
   "version": "3.11.9"
  }
 },
 "nbformat": 4,
 "nbformat_minor": 2
}
